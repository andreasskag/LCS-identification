{
 "cells": [
  {
   "cell_type": "code",
   "execution_count": 9,
   "metadata": {
    "collapsed": true
   },
   "outputs": [],
   "source": [
    "import xarray as xa\n",
    "import numpy as np\n",
    "from numba import njit\n",
    "import joblib"
   ]
  },
  {
   "cell_type": "code",
   "execution_count": 10,
   "metadata": {
    "collapsed": true
   },
   "outputs": [],
   "source": [
    "import matplotlib as plt"
   ]
  },
  {
   "cell_type": "code",
   "execution_count": 11,
   "metadata": {
    "collapsed": true
   },
   "outputs": [],
   "source": [
    "datafile = './utility/aggregate_be.nc'\n",
    "data = xa.open_dataset(datafile, decode_times=False)"
   ]
  },
  {
   "cell_type": "code",
   "execution_count": 14,
   "metadata": {},
   "outputs": [
    {
     "name": "stdout",
     "output_type": "stream",
     "text": [
      "(751,)\n"
     ]
    }
   ],
   "source": [
    "# print(data)\n",
    "\n",
    "def setNxNY(Nx, Ny):\n",
    "    global N\n",
    "    N = np.array([Nx,Ny])\n",
    "\n",
    "    \n",
    "    \n",
    "u = data.u[:,0,0:350,0:700]\n",
    "v = data.v[:,0,0:350,0:700]\n",
    "\n",
    "x = data.X[0:700] * 1000 #convert to meter\n",
    "y = data.Y[0:350] * 1000\n",
    "\n",
    "print(data.X.values.shape)\n",
    "time_res = data.time.values[1] - data.time.values[0]\n",
    "x_res = x.values[1] - x.values[0]\n",
    "y_res = y.values[1] - y.values[0]    \n",
    "@njit(parallel=True)\n",
    "def f(X, t):\n",
    "    x_0 = ((X - x.values[0]) / x_res).astype(np.int)\n",
    "    t_0 = int(t/time_res)\n",
    "    \n",
    "    x_d = ((X - x.values[0]) / x_res - x_0)\n",
    "    t_d = t/time_res - t_0\n",
    "    \n",
    "    ret = np.empty((2, len(X[0,:])))\n",
    "    \n",
    "    c00 = u[t_0, x_0[1,:], x_0[0,:]] * (1 - x_d[0,:]) + u[t_0 + 1, x_0[1,:], x_0[0,:]] * x_d[0,:]\n",
    "    c01 = u[t_0, x_0[1,:], x_0[0,:] + 1] * (1 - x_d[0,:]) + u[t_0 + 1, x_0[1,:], x_0[0,:] + 1] * x_d[0,:]\n",
    "    c10 = u[t_0, x_0[1,:] + 1, x_0[0,:]] * (1 - x_d[0,:]) + u[t_0 + 1, x_0[1,:] + 1, x_0[0,:]] * x_d[0,:]\n",
    "    c11 = u[t_0, x_0[1,:] + 1, x_0[0,:] + 1] * (1 - x_d[0,:]) + u[t_0 + 1, x_0[1,:] + 1, x_0[0,:] + 1] * x_d[0,:]\n",
    "    \n",
    "    c0 = c00 * (1 - x_d[1,:]) + c10 * x_d[1,:]\n",
    "    c1 = c01 * (1 - x_d[1,:]) + c11 * x_d[1,:]\n",
    "    \n",
    "    ret[0,:] = c0 * (1 - t_d) + c1 * t_d\n",
    "    \n",
    "    c00 = v[t_0, x_0[1,:], x_0[0,:]] * (1 - x_d[0,:]) + v[t_0 + 1, x_0[1,:], x_0[0,:]] * x_d[0,:]\n",
    "    c01 = v[t_0, x_0[1,:], x_0[0,:] + 1] * (1 - x_d[0,:]) + v[t_0 + 1, x_0[1,:], x_0[0,:] + 1] * x_d[0,:]\n",
    "    c10 = v[t_0, x_0[1,:] + 1, x_0[0,:]] * (1 - x_d[0,:]) + v[t_0 + 1, x_0[1,:] + 1, x_0[0,:]] * x_d[0,:]\n",
    "    c11 = v[t_0, x_0[1,:] + 1, x_0[0,:] + 1] * (1 - x_d[0,:]) + v[t_0 + 1, x_0[1,:] + 1, x_0[0,:] + 1] * x_d[0,:]\n",
    "    \n",
    "    c0 = c00 * (1 - x_d[1,:]) + c10 * x_d[1,:]\n",
    "    c1 = c01 * (1 - x_d[1,:]) + c11 * x_d[1,:]\n",
    "    \n",
    "    ret[1,:] = c0 * (1 - t_d) + c1 * t_d\n",
    "    return ret\n",
    "\n",
    "# @njit(parallel=True)\n",
    "# def doublegyre(X, t, A, e, w):\n",
    "#     a = e * np.sin(w*t)\n",
    "#     b = 1 - 2.*e*np.sin(w*t)\n",
    "#     f = a*X[0,:]**2 + b*X[0,:]\n",
    "#     v = np.empty(X.shape)\n",
    "#     v[0,:] = -np.pi*A*np.sin(np.pi*f) * np.cos(np.pi*X[1,:])                    # x component of velocity\n",
    "#     v[1,:] =  np.pi*A*np.cos(np.pi*f) * np.sin(np.pi*X[1,:]) * (2.*a*X[0,:] + b) # y component of velocity\n",
    "#     return v\n",
    "\n",
    "\n",
    "# # Wrapper function to pass to integrator\n",
    "# # X0 is a two-component vector [x, y]\n",
    "# @njit\n",
    "# def f(X, t):\n",
    "#     # Parameters of the velocity field\n",
    "#     A = A_       # A\n",
    "#     e = e_      # epsilon\n",
    "#     w = 2.*np.pi/10.  # omega\n",
    "#     return doublegyre(X, t, A, e, w)\n"
   ]
  },
  {
   "cell_type": "code",
   "execution_count": null,
   "metadata": {
    "collapsed": true
   },
   "outputs": [],
   "source": []
  }
 ],
 "metadata": {
  "kernelspec": {
   "display_name": "Python 3",
   "language": "python",
   "name": "python3"
  },
  "language_info": {
   "codemirror_mode": {
    "name": "ipython",
    "version": 3
   },
   "file_extension": ".py",
   "mimetype": "text/x-python",
   "name": "python",
   "nbconvert_exporter": "python",
   "pygments_lexer": "ipython3",
   "version": "3.6.4"
  }
 },
 "nbformat": 4,
 "nbformat_minor": 2
}
