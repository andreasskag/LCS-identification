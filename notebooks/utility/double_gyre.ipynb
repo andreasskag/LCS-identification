{
 "cells": [
  {
   "cell_type": "code",
   "execution_count": null,
   "metadata": {
    "collapsed": true
   },
   "outputs": [],
   "source": [
    "import numpy as np\n",
    "\n",
    "# The double gyre velocity field\n",
    "@njit(parallel=True)\n",
    "def doublegyre(X, t, A, e, w):\n",
    "    a = e * np.sin(w*t)\n",
    "    b = 1 - 2.*e*np.sin(w*t)\n",
    "    f = a*X[0,:]**2 + b*X[0,:]\n",
    "    v = np.empty(X.shape)\n",
    "    v[0,:] = -np.pi*A*np.sin(np.pi*f) * np.cos(np.pi*X[1,:])                    # x component of velocity\n",
    "    v[1,:] =  np.pi*A*np.cos(np.pi*f) * np.sin(np.pi*X[1,:]) * (2.*a*X[0,:] + b) # y component of velocity\n",
    "    return v\n",
    "\n",
    "\n",
    "# Wrapper function to pass to integrator\n",
    "# X0 is a two-component vector [x, y]\n",
    "@njit\n",
    "def f(X, t):\n",
    "    # Parameters of the velocity field\n",
    "    A = A_       # A\n",
    "    e = e_      # epsilon\n",
    "    w = 2.*np.pi/10.  # omega\n",
    "    return doublegyre(X, t, A, e, w)\n",
    "\n",
    "\n",
    "# 4th order Runge-Kutta integrator\n",
    "# X0 is a two-component vector [x, y]"
   ]
  }
 ],
 "metadata": {
  "kernelspec": {
   "display_name": "Python 3",
   "language": "python",
   "name": "python3"
  },
  "language_info": {
   "codemirror_mode": {
    "name": "ipython",
    "version": 3
   },
   "file_extension": ".py",
   "mimetype": "text/x-python",
   "name": "python",
   "nbconvert_exporter": "python",
   "pygments_lexer": "ipython3",
   "version": "3.6.3"
  }
 },
 "nbformat": 4,
 "nbformat_minor": 2
}
